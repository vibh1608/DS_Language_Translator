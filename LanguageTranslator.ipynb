{
 "cells": [
  {
   "cell_type": "code",
   "execution_count": 33,
   "metadata": {},
   "outputs": [
    {
     "name": "stderr",
     "output_type": "stream",
     "text": [
      "UsageError: Line magic function `%` not found.\n"
     ]
    }
   ],
   "source": [
    "import string\n",
    "import re\n",
    "from numpy import array, argmax, random, take\n",
    "import pandas as pd\n",
    "from keras.models import Sequential\n",
    "from keras.layers import Dense, LSTM, Embedding, Bidirectional, RepeatVector, TimeDistributed\n",
    "from keras.preprocessing.text import Tokenizer\n",
    "from keras.callbacks import ModelCheckpoint\n",
    "from keras.preprocessing.sequence import pad_sequences\n",
    "from keras.models import load_model\n",
    "from keras import optimizers\n",
    "import matplotlib.pyplot as plt\n",
    "% matplotlib inline\n",
    "pd.set_option('display.max_colwidth', 200)"
   ]
  },
  {
   "cell_type": "code",
   "execution_count": 34,
   "metadata": {},
   "outputs": [],
   "source": [
    "# function to read raw text file\n",
    "def read_text(filename):\n",
    "    # open the file\n",
    "    file = open(filename, mode='rt', encoding='utf-8')\n",
    "    # read all text\n",
    "    text = file.read()\n",
    "    file.close()\n",
    "    return text"
   ]
  },
  {
   "cell_type": "code",
   "execution_count": 35,
   "metadata": {},
   "outputs": [],
   "source": [
    "# split a text into sentences\n",
    "def to_lines(text):\n",
    "    sents = text.strip().split('\\n')\n",
    "    sents = [i.split('\\t') for i in sents]\n",
    "    return sents"
   ]
  },
  {
   "cell_type": "code",
   "execution_count": 36,
   "metadata": {},
   "outputs": [],
   "source": [
    "data = read_text(\"French_2_english/fra.txt\")\n",
    "deu_eng = to_lines(data)\n",
    "deu_eng = array(deu_eng)"
   ]
  },
  {
   "cell_type": "code",
   "execution_count": 37,
   "metadata": {},
   "outputs": [],
   "source": [
    "deu_eng = deu_eng[:50000,:]"
   ]
  },
  {
   "cell_type": "code",
   "execution_count": 38,
   "metadata": {},
   "outputs": [
    {
     "data": {
      "text/plain": [
       "array([['Go.', 'Va !'],\n",
       "       ['Hi.', 'Salut !'],\n",
       "       ['Hi.', 'Salut.'],\n",
       "       ...,\n",
       "       ['We make sake from rice.', 'On fait le saké à partir du riz.'],\n",
       "       ['We may still get lucky.',\n",
       "        'On pourrait encore avoir de la chance.'],\n",
       "       ['We met a few weeks ago.',\n",
       "        'Nous nous sommes rencontrés il y a quelques semaines.']],\n",
       "      dtype='<U349')"
      ]
     },
     "execution_count": 38,
     "metadata": {},
     "output_type": "execute_result"
    }
   ],
   "source": [
    "deu_eng"
   ]
  },
  {
   "cell_type": "code",
   "execution_count": 39,
   "metadata": {},
   "outputs": [],
   "source": [
    "# Remove punctuation\n",
    "deu_eng[:,0] = [s.translate(str.maketrans('', '', string.punctuation)) for s in deu_eng[:,0]]\n",
    "deu_eng[:,1] = [s.translate(str.maketrans('', '', string.punctuation)) for s in deu_eng[:,1]]"
   ]
  },
  {
   "cell_type": "code",
   "execution_count": 40,
   "metadata": {},
   "outputs": [
    {
     "data": {
      "text/plain": [
       "array([['Go', 'Va '],\n",
       "       ['Hi', 'Salut '],\n",
       "       ['Hi', 'Salut'],\n",
       "       ...,\n",
       "       ['We make sake from rice', 'On fait le saké à partir du riz'],\n",
       "       ['We may still get lucky',\n",
       "        'On pourrait encore avoir de la chance'],\n",
       "       ['We met a few weeks ago',\n",
       "        'Nous nous sommes rencontrés il y a quelques semaines']],\n",
       "      dtype='<U349')"
      ]
     },
     "execution_count": 40,
     "metadata": {},
     "output_type": "execute_result"
    }
   ],
   "source": [
    "deu_eng"
   ]
  },
  {
   "cell_type": "code",
   "execution_count": 41,
   "metadata": {},
   "outputs": [],
   "source": [
    "# convert to lowercase\n",
    "for i in range(len(deu_eng)):\n",
    "    deu_eng[i,0] = deu_eng[i,0].lower()\n",
    "    \n",
    "    deu_eng[i,1] = deu_eng[i,1].lower()"
   ]
  },
  {
   "cell_type": "code",
   "execution_count": 42,
   "metadata": {},
   "outputs": [
    {
     "data": {
      "text/plain": [
       "array([['go', 'va '],\n",
       "       ['hi', 'salut '],\n",
       "       ['hi', 'salut'],\n",
       "       ...,\n",
       "       ['we make sake from rice', 'on fait le saké à partir du riz'],\n",
       "       ['we may still get lucky',\n",
       "        'on pourrait encore avoir de la chance'],\n",
       "       ['we met a few weeks ago',\n",
       "        'nous nous sommes rencontrés il y a quelques semaines']],\n",
       "      dtype='<U349')"
      ]
     },
     "execution_count": 42,
     "metadata": {},
     "output_type": "execute_result"
    }
   ],
   "source": [
    "deu_eng"
   ]
  },
  {
   "cell_type": "code",
   "execution_count": 43,
   "metadata": {},
   "outputs": [],
   "source": [
    "# empty lists\n",
    "eng_l = []\n",
    "deu_l = []\n",
    "\n",
    "# populate the lists with sentence lengths\n",
    "for i in deu_eng[:,0]:\n",
    "    eng_l.append(len(i.split()))\n",
    "\n",
    "for i in deu_eng[:,1]:\n",
    "    deu_l.append(len(i.split()))"
   ]
  },
  {
   "cell_type": "code",
   "execution_count": 44,
   "metadata": {},
   "outputs": [],
   "source": [
    "length_df = pd.DataFrame({'eng':eng_l, 'deu':deu_l})"
   ]
  },
  {
   "cell_type": "code",
   "execution_count": 45,
   "metadata": {},
   "outputs": [
    {
     "data": {
      "image/png": "[encoded data removed]",
      "text/plain": [
       "<Figure size 432x288 with 2 Axes>"
      ]
     },
     "metadata": {
      "needs_background": "light"
     },
     "output_type": "display_data"
    }
   ],
   "source": [
    "length_df.hist(bins = 30)\n",
    "plt.show()"
   ]
  },
  {
   "cell_type": "code",
   "execution_count": 46,
   "metadata": {},
   "outputs": [],
   "source": [
    "# function to build a tokenizer\n",
    "def tokenization(lines):\n",
    "    tokenizer = Tokenizer()\n",
    "    tokenizer.fit_on_texts(lines)\n",
    "    return tokenizer"
   ]
  },
  {
   "cell_type": "code",
   "execution_count": 47,
   "metadata": {},
   "outputs": [
    {
     "name": "stdout",
     "output_type": "stream",
     "text": [
      "English Vocabulary Size: 6076\n"
     ]
    }
   ],
   "source": [
    "# prepare english tokenizer\n",
    "eng_tokenizer = tokenization(deu_eng[:, 0])\n",
    "eng_vocab_size = len(eng_tokenizer.word_index) + 1\n",
    "\n",
    "eng_length = 8\n",
    "print('English Vocabulary Size: %d' % eng_vocab_size)"
   ]
  },
  {
   "cell_type": "code",
   "execution_count": 48,
   "metadata": {},
   "outputs": [
    {
     "name": "stdout",
     "output_type": "stream",
     "text": [
      "French Vocabulary Size: 14026\n"
     ]
    }
   ],
   "source": [
    "# prepare Deutch tokenizer\n",
    "deu_tokenizer = tokenization(deu_eng[:, 1])\n",
    "deu_vocab_size = len(deu_tokenizer.word_index) + 1\n",
    "\n",
    "deu_length = 8\n",
    "print('French Vocabulary Size: %d' % deu_vocab_size)"
   ]
  },
  {
   "cell_type": "code",
   "execution_count": 49,
   "metadata": {},
   "outputs": [],
   "source": [
    "# encode and pad sequences\n",
    "def encode_sequences(tokenizer, length, lines):\n",
    "    # integer encode sequences\n",
    "    seq = tokenizer.texts_to_sequences(lines)\n",
    "    # pad sequences with 0 values\n",
    "    seq = pad_sequences(seq, maxlen=length, padding='post')\n",
    "    return seq"
   ]
  },
  {
   "cell_type": "markdown",
   "metadata": {},
   "source": [
    "# Model building"
   ]
  },
  {
   "cell_type": "code",
   "execution_count": 50,
   "metadata": {},
   "outputs": [],
   "source": [
    "from sklearn.model_selection import train_test_split\n",
    "train, test = train_test_split(deu_eng, test_size=0.2, random_state = 12)"
   ]
  },
  {
   "cell_type": "code",
   "execution_count": 51,
   "metadata": {},
   "outputs": [],
   "source": [
    "# prepare training data\n",
    "trainX = encode_sequences(deu_tokenizer, deu_length, train[:, 1])\n",
    "trainY = encode_sequences(eng_tokenizer, eng_length, train[:, 0])"
   ]
  },
  {
   "cell_type": "code",
   "execution_count": 52,
   "metadata": {},
   "outputs": [],
   "source": [
    "# prepare validation data\n",
    "testX = encode_sequences(deu_tokenizer, deu_length, test[:, 1])\n",
    "testY = encode_sequences(eng_tokenizer, eng_length, test[:, 0])"
   ]
  },
  {
   "cell_type": "code",
   "execution_count": 53,
   "metadata": {},
   "outputs": [],
   "source": [
    "# build NMT model\n",
    "def build_model(in_vocab, out_vocab, in_timesteps, out_timesteps, units):\n",
    "    model = Sequential()\n",
    "    model.add(Embedding(in_vocab, units, input_length=in_timesteps, mask_zero=True))\n",
    "    model.add(LSTM(units))\n",
    "    model.add(RepeatVector(out_timesteps))\n",
    "    model.add(LSTM(units, return_sequences=True))\n",
    "    model.add(Dense(out_vocab, activation='softmax'))\n",
    "    return model"
   ]
  },
  {
   "cell_type": "code",
   "execution_count": 54,
   "metadata": {},
   "outputs": [],
   "source": [
    "model = build_model(deu_vocab_size, eng_vocab_size, deu_length, eng_length, 512)\n",
    "rms = optimizers.RMSprop(lr=0.001)\n",
    "model.compile(optimizer=rms, loss='sparse_categorical_crossentropy')"
   ]
  },
  {
   "cell_type": "code",
   "execution_count": 55,
   "metadata": {
    "scrolled": false
   },
   "outputs": [
    {
     "name": "stdout",
     "output_type": "stream",
     "text": [
      "Train on 32000 samples, validate on 8000 samples\n",
      "Epoch 1/30\n",
      "32000/32000 [==============================] - 326s 10ms/step - loss: 3.6046 - val_loss: 3.0393\n",
      "\n",
      "Epoch 00001: val_loss improved from inf to 3.03933, saving model to model.h1.Fre_2_Eng\n",
      "Epoch 2/30\n",
      "32000/32000 [==============================] - 248s 8ms/step - loss: 2.9397 - val_loss: 2.8980\n",
      "\n",
      "Epoch 00002: val_loss improved from 3.03933 to 2.89803, saving model to model.h1.Fre_2_Eng\n",
      "Epoch 3/30\n",
      "32000/32000 [==============================] - 241s 8ms/step - loss: 2.7832 - val_loss: 2.7559\n",
      "\n",
      "Epoch 00003: val_loss improved from 2.89803 to 2.75590, saving model to model.h1.Fre_2_Eng\n",
      "Epoch 4/30\n",
      "32000/32000 [==============================] - 230s 7ms/step - loss: 2.6245 - val_loss: 2.6158\n",
      "\n",
      "Epoch 00004: val_loss improved from 2.75590 to 2.61582, saving model to model.h1.Fre_2_Eng\n",
      "Epoch 5/30\n",
      "32000/32000 [==============================] - 236s 7ms/step - loss: 2.4538 - val_loss: 2.4922\n",
      "\n",
      "Epoch 00005: val_loss improved from 2.61582 to 2.49219, saving model to model.h1.Fre_2_Eng\n",
      "Epoch 6/30\n",
      "32000/32000 [==============================] - 245s 8ms/step - loss: 2.2976 - val_loss: 2.3741\n",
      "\n",
      "Epoch 00006: val_loss improved from 2.49219 to 2.37412, saving model to model.h1.Fre_2_Eng\n",
      "Epoch 7/30\n",
      "32000/32000 [==============================] - 228s 7ms/step - loss: 2.1547 - val_loss: 2.2658\n",
      "\n",
      "Epoch 00007: val_loss improved from 2.37412 to 2.26576, saving model to model.h1.Fre_2_Eng\n",
      "Epoch 8/30\n",
      "32000/32000 [==============================] - 229s 7ms/step - loss: 2.0237 - val_loss: 2.1518\n",
      "\n",
      "Epoch 00008: val_loss improved from 2.26576 to 2.15182, saving model to model.h1.Fre_2_Eng\n",
      "Epoch 9/30\n",
      "32000/32000 [==============================] - 234s 7ms/step - loss: 1.9023 - val_loss: 2.0930\n",
      "\n",
      "Epoch 00009: val_loss improved from 2.15182 to 2.09303, saving model to model.h1.Fre_2_Eng\n",
      "Epoch 10/30\n",
      "32000/32000 [==============================] - 250s 8ms/step - loss: 1.7933 - val_loss: 2.0113\n",
      "\n",
      "Epoch 00010: val_loss improved from 2.09303 to 2.01126, saving model to model.h1.Fre_2_Eng\n",
      "Epoch 11/30\n",
      "32000/32000 [==============================] - 241s 8ms/step - loss: 1.6877 - val_loss: 1.9612\n",
      "\n",
      "Epoch 00011: val_loss improved from 2.01126 to 1.96119, saving model to model.h1.Fre_2_Eng\n",
      "Epoch 12/30\n",
      "32000/32000 [==============================] - 248s 8ms/step - loss: 1.5874 - val_loss: 1.8970\n",
      "\n",
      "Epoch 00012: val_loss improved from 1.96119 to 1.89697, saving model to model.h1.Fre_2_Eng\n",
      "Epoch 13/30\n",
      "32000/32000 [==============================] - 233s 7ms/step - loss: 1.4922 - val_loss: 1.8321\n",
      "\n",
      "Epoch 00013: val_loss improved from 1.89697 to 1.83208, saving model to model.h1.Fre_2_Eng\n",
      "Epoch 14/30\n",
      "32000/32000 [==============================] - 247s 8ms/step - loss: 1.4020 - val_loss: 1.7989\n",
      "\n",
      "Epoch 00014: val_loss improved from 1.83208 to 1.79889, saving model to model.h1.Fre_2_Eng\n",
      "Epoch 15/30\n",
      "32000/32000 [==============================] - 225s 7ms/step - loss: 1.3165 - val_loss: 1.7680\n",
      "\n",
      "Epoch 00015: val_loss improved from 1.79889 to 1.76802, saving model to model.h1.Fre_2_Eng\n",
      "Epoch 16/30\n",
      "32000/32000 [==============================] - 230s 7ms/step - loss: 1.2369 - val_loss: 1.7019\n",
      "\n",
      "Epoch 00016: val_loss improved from 1.76802 to 1.70192, saving model to model.h1.Fre_2_Eng\n",
      "Epoch 17/30\n",
      "32000/32000 [==============================] - 247s 8ms/step - loss: 1.1552 - val_loss: 1.6776\n",
      "\n",
      "Epoch 00017: val_loss improved from 1.70192 to 1.67759, saving model to model.h1.Fre_2_Eng\n",
      "Epoch 18/30\n",
      "32000/32000 [==============================] - 245s 8ms/step - loss: 1.0823 - val_loss: 1.6448\n",
      "\n",
      "Epoch 00018: val_loss improved from 1.67759 to 1.64477, saving model to model.h1.Fre_2_Eng\n",
      "Epoch 19/30\n",
      "32000/32000 [==============================] - 231s 7ms/step - loss: 1.0083 - val_loss: 1.6078\n",
      "\n",
      "Epoch 00019: val_loss improved from 1.64477 to 1.60782, saving model to model.h1.Fre_2_Eng\n",
      "Epoch 20/30\n",
      "32000/32000 [==============================] - 233s 7ms/step - loss: 0.9411 - val_loss: 1.5770\n",
      "\n",
      "Epoch 00020: val_loss improved from 1.60782 to 1.57704, saving model to model.h1.Fre_2_Eng\n",
      "Epoch 21/30\n",
      "32000/32000 [==============================] - 248s 8ms/step - loss: 0.8734 - val_loss: 1.5649\n",
      "\n",
      "Epoch 00021: val_loss improved from 1.57704 to 1.56495, saving model to model.h1.Fre_2_Eng\n",
      "Epoch 22/30\n",
      "32000/32000 [==============================] - 226s 7ms/step - loss: 0.8127 - val_loss: 1.5321\n",
      "\n",
      "Epoch 00022: val_loss improved from 1.56495 to 1.53213, saving model to model.h1.Fre_2_Eng\n",
      "Epoch 23/30\n",
      "32000/32000 [==============================] - 235s 7ms/step - loss: 0.7524 - val_loss: 1.5245\n",
      "\n",
      "Epoch 00023: val_loss improved from 1.53213 to 1.52454, saving model to model.h1.Fre_2_Eng\n",
      "Epoch 24/30\n",
      "32000/32000 [==============================] - 239s 7ms/step - loss: 0.6950 - val_loss: 1.5173\n",
      "\n",
      "Epoch 00024: val_loss improved from 1.52454 to 1.51726, saving model to model.h1.Fre_2_Eng\n",
      "Epoch 25/30\n",
      "32000/32000 [==============================] - 252s 8ms/step - loss: 0.6423 - val_loss: 1.4811\n",
      "\n",
      "Epoch 00025: val_loss improved from 1.51726 to 1.48111, saving model to model.h1.Fre_2_Eng\n",
      "Epoch 26/30\n",
      "32000/32000 [==============================] - 234s 7ms/step - loss: 0.5922 - val_loss: 1.4634\n",
      "\n",
      "Epoch 00026: val_loss improved from 1.48111 to 1.46339, saving model to model.h1.Fre_2_Eng\n",
      "Epoch 27/30\n",
      "32000/32000 [==============================] - 234s 7ms/step - loss: 0.5442 - val_loss: 1.4519\n",
      "\n",
      "Epoch 00027: val_loss improved from 1.46339 to 1.45193, saving model to model.h1.Fre_2_Eng\n",
      "Epoch 28/30\n",
      "32000/32000 [==============================] - 253s 8ms/step - loss: 0.5010 - val_loss: 1.4390\n",
      "\n",
      "Epoch 00028: val_loss improved from 1.45193 to 1.43903, saving model to model.h1.Fre_2_Eng\n",
      "Epoch 29/30\n",
      "32000/32000 [==============================] - 274s 9ms/step - loss: 0.4593 - val_loss: 1.4316\n",
      "\n",
      "Epoch 00029: val_loss improved from 1.43903 to 1.43156, saving model to model.h1.Fre_2_Eng\n",
      "Epoch 30/30\n",
      "32000/32000 [==============================] - 234s 7ms/step - loss: 0.4180 - val_loss: 1.4201\n",
      "\n",
      "Epoch 00030: val_loss improved from 1.43156 to 1.42014, saving model to model.h1.Fre_2_Eng\n"
     ]
    }
   ],
   "source": [
    "filename = 'model.h1.Fre_2_Eng'\n",
    "checkpoint = ModelCheckpoint(filename, monitor='val_loss', verbose=1, save_best_only=True, mode='min')\n",
    "\n",
    "history = model.fit(trainX, trainY.reshape(trainY.shape[0], trainY.shape[1], 1), \n",
    "          epochs=30, batch_size=512, \n",
    "          validation_split = 0.2,\n",
    "          callbacks=[checkpoint], verbose=1)"
   ]
  },
  {
   "cell_type": "code",
   "execution_count": 56,
   "metadata": {},
   "outputs": [
    {
     "data": {
      "image/png": "[encoded data removed]",
      "text/plain": [
       "<Figure size 432x288 with 1 Axes>"
      ]
     },
     "metadata": {
      "needs_background": "light"
     },
     "output_type": "display_data"
    }
   ],
   "source": [
    "plt.plot(history.history['loss'])\n",
    "plt.plot(history.history['val_loss'])\n",
    "plt.legend(['train','validation'])\n",
    "plt.show()"
   ]
  },
  {
   "cell_type": "code",
   "execution_count": 57,
   "metadata": {},
   "outputs": [],
   "source": [
    "model = load_model('model.h1.Fre_2_Eng')\n",
    "preds = model.predict_classes(testX.reshape((testX.shape[0],testX.shape[1])))"
   ]
  },
  {
   "cell_type": "code",
   "execution_count": 58,
   "metadata": {},
   "outputs": [],
   "source": [
    "def get_word(n, tokenizer):\n",
    "    for word, index in tokenizer.word_index.items():\n",
    "        if index == n:\n",
    "            return word\n",
    "    return None"
   ]
  },
  {
   "cell_type": "code",
   "execution_count": 59,
   "metadata": {},
   "outputs": [],
   "source": [
    "# convert predictions into text (English)\n",
    "preds_text = []\n",
    "for i in preds:\n",
    "    temp = []\n",
    "    for j in range(len(i)):\n",
    "        t = get_word(i[j], eng_tokenizer)\n",
    "        if j > 0:\n",
    "            if (t == get_word(i[j-1], eng_tokenizer)) or (t == None):\n",
    "                temp.append('')\n",
    "            else:\n",
    "                temp.append(t)\n",
    "             \n",
    "        else:\n",
    "            if(t == None):\n",
    "                temp.append('')\n",
    "            else:\n",
    "                temp.append(t)            \n",
    "        \n",
    "    preds_text.append(' '.join(temp))"
   ]
  },
  {
   "cell_type": "code",
   "execution_count": 60,
   "metadata": {},
   "outputs": [],
   "source": [
    "pred_df = pd.DataFrame({'actual' : test[:,0], 'predicted' : preds_text})"
   ]
  },
  {
   "cell_type": "code",
   "execution_count": 61,
   "metadata": {},
   "outputs": [],
   "source": [
    "pd.set_option('display.max_colwidth', 200)"
   ]
  },
  {
   "cell_type": "code",
   "execution_count": 62,
   "metadata": {},
   "outputs": [
    {
     "data": {
      "text/html": [
       "<div>\n",
       "<style scoped>\n",
       "    .dataframe tbody tr th:only-of-type {\n",
       "        vertical-align: middle;\n",
       "    }\n",
       "\n",
       "    .dataframe tbody tr th {\n",
       "        vertical-align: top;\n",
       "    }\n",
       "\n",
       "    .dataframe thead th {\n",
       "        text-align: right;\n",
       "    }\n",
       "</style>\n",
       "<table border=\"1\" class=\"dataframe\">\n",
       "  <thead>\n",
       "    <tr style=\"text-align: right;\">\n",
       "      <th></th>\n",
       "      <th>actual</th>\n",
       "      <th>predicted</th>\n",
       "    </tr>\n",
       "  </thead>\n",
       "  <tbody>\n",
       "    <tr>\n",
       "      <th>0</th>\n",
       "      <td>i regret saying that</td>\n",
       "      <td>i said him that</td>\n",
       "    </tr>\n",
       "    <tr>\n",
       "      <th>1</th>\n",
       "      <td>forgive us</td>\n",
       "      <td>a</td>\n",
       "    </tr>\n",
       "    <tr>\n",
       "      <th>2</th>\n",
       "      <td>i did have fun</td>\n",
       "      <td>i had fun</td>\n",
       "    </tr>\n",
       "    <tr>\n",
       "      <th>3</th>\n",
       "      <td>bring it to me</td>\n",
       "      <td>it a</td>\n",
       "    </tr>\n",
       "    <tr>\n",
       "      <th>4</th>\n",
       "      <td>what did you just say</td>\n",
       "      <td>what do you told say</td>\n",
       "    </tr>\n",
       "    <tr>\n",
       "      <th>5</th>\n",
       "      <td>i think nobodys home</td>\n",
       "      <td>i think tom is</td>\n",
       "    </tr>\n",
       "    <tr>\n",
       "      <th>6</th>\n",
       "      <td>he delivers newspapers</td>\n",
       "      <td>he turned the teacher</td>\n",
       "    </tr>\n",
       "    <tr>\n",
       "      <th>7</th>\n",
       "      <td>my phone is vibrating</td>\n",
       "      <td>my tv is</td>\n",
       "    </tr>\n",
       "    <tr>\n",
       "      <th>8</th>\n",
       "      <td>do you feel lucky</td>\n",
       "      <td>do you feel lucky</td>\n",
       "    </tr>\n",
       "    <tr>\n",
       "      <th>9</th>\n",
       "      <td>thats the last straw</td>\n",
       "      <td>she never afford that</td>\n",
       "    </tr>\n",
       "    <tr>\n",
       "      <th>10</th>\n",
       "      <td>read it to me</td>\n",
       "      <td>a</td>\n",
       "    </tr>\n",
       "    <tr>\n",
       "      <th>11</th>\n",
       "      <td>love hurts</td>\n",
       "      <td>is you</td>\n",
       "    </tr>\n",
       "    <tr>\n",
       "      <th>12</th>\n",
       "      <td>i ran outside</td>\n",
       "      <td>i got confused</td>\n",
       "    </tr>\n",
       "    <tr>\n",
       "      <th>13</th>\n",
       "      <td>i like salmon</td>\n",
       "      <td>i like coffee</td>\n",
       "    </tr>\n",
       "    <tr>\n",
       "      <th>14</th>\n",
       "      <td>i was born there</td>\n",
       "      <td>i was born</td>\n",
       "    </tr>\n",
       "  </tbody>\n",
       "</table>\n",
       "</div>"
      ],
      "text/plain": [
       "                    actual                  predicted\n",
       "0     i regret saying that        i said him that    \n",
       "1               forgive us                    a      \n",
       "2           i did have fun             i had fun     \n",
       "3           bring it to me                 it a      \n",
       "4    what did you just say    what do you told say   \n",
       "5     i think nobodys home         i think tom is    \n",
       "6   he delivers newspapers  he turned the teacher    \n",
       "7    my phone is vibrating              my tv is     \n",
       "8        do you feel lucky      do you feel lucky    \n",
       "9     thats the last straw  she never afford that    \n",
       "10           read it to me                    a      \n",
       "11              love hurts               is you      \n",
       "12           i ran outside        i got confused     \n",
       "13           i like salmon         i like coffee     \n",
       "14        i was born there            i was born     "
      ]
     },
     "execution_count": 62,
     "metadata": {},
     "output_type": "execute_result"
    }
   ],
   "source": [
    "pred_df.head(15)"
   ]
  },
  {
   "cell_type": "code",
   "execution_count": null,
   "metadata": {},
   "outputs": [],
   "source": []
  }
 ],
 "metadata": {
  "kernelspec": {
   "display_name": "Python 3",
   "language": "python",
   "name": "python3"
  },
  "language_info": {
   "codemirror_mode": {
    "name": "ipython",
    "version": 3
   },
   "file_extension": ".py",
   "mimetype": "text/x-python",
   "name": "python",
   "nbconvert_exporter": "python",
   "pygments_lexer": "ipython3",
   "version": "3.7.3"
  }
 },
 "nbformat": 4,
 "nbformat_minor": 2
}
